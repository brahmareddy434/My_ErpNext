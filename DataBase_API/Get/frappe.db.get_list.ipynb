{
 "cells": [
  {
   "attachments": {},
   "cell_type": "markdown",
   "metadata": {},
   "source": [
    "# frappe.db.get_list\n",
    "<br>syntax\n",
    "`frappe.db.get_list(doctype,filters,or_filters,fields,order_by,group_by,start,page_length)`<br>\n",
    "->Aslo aliased to `frappe.get_list`<br>\n",
    "Returns a list of records from a doctype table.ORM Wrapper for a select query.Will also apply user permissions for the records for the session user.Only returns the document names if the fields keyword argument is not given.By default this method returns a list of dict s ,but You can pluck a particular field by giving the pluck keyword argument:\n",
    "<br>\n",
    "<br>\n",
    "`frappe.db.get_list('Employee')`\n",
    "the above api returns the `select * from tabEmployee` data<br>\n",
    "`frappe.db.get_list('Employee',pluck='name')`<br>\n",
    "\n",
    "the above fields return the o/p's like below<br>\n",
    "<br>\n",
    "<br>\n",
    "frappe.db.get_list('Employee')\n",
    "\n",
    "# output\n",
    "[{'name': 'HR-EMP-00008'},\n",
    " {'name': 'HR-EMP-00006'},\n",
    " {'name': 'HR-EMP-00010'},\n",
    " {'name': 'HR-EMP-00005'}\n",
    "]\n",
    "\n",
    "# with pluck\n",
    "frappe.db.get_list('Employee', pluck='name')\n",
    "\n",
    "# output\n",
    "['HR-EMP-00008',\n",
    " 'HR-EMP-00006',\n",
    " 'HR-EMP-00010',\n",
    " 'HR-EMP-00005'\n",
    "]\n",
    "\n"
   ]
  },
  {
   "attachments": {},
   "cell_type": "markdown",
   "metadata": {},
   "source": [
    "<br>Below is the Query's showing with arguments"
   ]
  },
  {
   "attachments": {},
   "cell_type": "markdown",
   "metadata": {},
   "source": [
    "frappe.db.get_list('Task',\n",
    "    filters={\n",
    "        'status': 'Open'\n",
    "    },\n",
    "    fields=['subject', 'date'],\n",
    "    order_by='date desc',\n",
    "    start=10,\n",
    "    page_length=20,\n",
    "    as_list=True\n",
    ")\n",
    "\n",
    "# output\n",
    "(('Update Branding and Design', '2019-09-04'),\n",
    "('Missing Documentation', '2019-09-02'),\n",
    "('Fundraiser for Foundation', '2019-09-03'))\n",
    "\n",
    "# Tasks with date after 2019-09-08\n",
    "frappe.db.get_list('Task', filters={\n",
    "    'date': ['>', '2019-09-08']\n",
    "})\n",
    "\n",
    "# Tasks with date between 2020-04-01 and 2021-03-31 (both inclusive)\n",
    "frappe.db.get_list('Task', filters=[[\n",
    "    'date', 'between', ['2020-04-01', '2021-03-31']\n",
    "]])\n",
    "\n",
    "# Tasks with subject that contains \"test\"\n",
    "frappe.db.get_list('Task', filters={\n",
    "    'subject': ['like', '%test%']\n",
    "})\n",
    "\n",
    "# Count number of tasks grouped by status\n",
    "frappe.db.get_list('Task',\n",
    "    fields=['count(name) as count', 'status'],\n",
    "    group_by='status'\n",
    ")\n",
    "# output\n",
    "[{'count': 1, 'status': 'Working'},\n",
    " {'count': 2, 'status': 'Overdue'},\n",
    " {'count': 2, 'status': 'Open'},\n",
    " {'count': 1, 'status': 'Filed'},\n",
    " {'count': 20, 'status': 'Completed'},\n",
    " {'count': 1, 'status': 'Cancelled'}]\n"
   ]
  },
  {
   "attachments": {},
   "cell_type": "markdown",
   "metadata": {},
   "source": []
  }
 ],
 "metadata": {
  "language_info": {
   "name": "python"
  },
  "orig_nbformat": 4
 },
 "nbformat": 4,
 "nbformat_minor": 2
}

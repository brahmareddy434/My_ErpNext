{
 "cells": [
  {
   "attachments": {},
   "cell_type": "markdown",
   "metadata": {},
   "source": [
    "# frappe.db.get_single_value \n",
    "`syntax:frappe.db.get_single_value(doctype,field)`\n",
    "<br>Returns field value from single doctype<br>\n",
    "`timezone=frappe.db.get_single_value('system settings','timezone')`"
   ]
  },
  {
   "cell_type": "code",
   "execution_count": null,
   "metadata": {},
   "outputs": [],
   "source": []
  }
 ],
 "metadata": {
  "language_info": {
   "name": "python"
  },
  "orig_nbformat": 4
 },
 "nbformat": 4,
 "nbformat_minor": 2
}

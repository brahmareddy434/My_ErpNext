{
 "cells": [
  {
   "attachments": {},
   "cell_type": "markdown",
   "metadata": {},
   "source": [
    "#frappe.db.get_all \n",
    "\n",
    "`syntax:frappe.db.get_all(doctype,filters,or_filters,fields,orderby,group by,start,page-length)`\n",
    "<br>Also aliased `frappe.get_all`<br>\n",
    "Same as frappe.db.get_list() but will fetch all records without permissions"
   ]
  }
 ],
 "metadata": {
  "language_info": {
   "name": "python"
  },
  "orig_nbformat": 4
 },
 "nbformat": 4,
 "nbformat_minor": 2
}

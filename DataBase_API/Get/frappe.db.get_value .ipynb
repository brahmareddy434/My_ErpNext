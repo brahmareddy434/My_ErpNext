{
 "cells": [
  {
   "attachments": {},
   "cell_type": "markdown",
   "metadata": {},
   "source": [
    "# frappe.db.get_value \n",
    "`syntax:frappe.db.get_value(doctype,name,field) or frappe.db.get_value(doctype,filters,fields)`<br>\n",
    "also aliased `frappe.get_value() or frappe.get_values()`\n",
    "<br>Returns the field value or list of values<br>\n",
    "* single value::<br>\n",
    "subject=frappe.db.get_value(doctype,name,field)\n",
    "<br>* multiple values::<br>sub,desc=frappe.db.get_values(doctype,name,['sub','desc'])\n",
    "<br>\n",
    "return as dict:::\n",
    "<br>dic=frappe.db.get_values(doctype,name,['sub','desc'],as_dict=1)\n",
    "<br>dic.sub<br>dic.desc\n",
    "<br>* with fileters ,return the first record that matches with filters<br>\n",
    "sub,desc=frappe.db.get_value(docype,{\"status\":\"Active\"},['sub'','desc'])"
   ]
  },
  {
   "cell_type": "code",
   "execution_count": null,
   "metadata": {},
   "outputs": [],
   "source": []
  }
 ],
 "metadata": {
  "language_info": {
   "name": "python"
  },
  "orig_nbformat": 4
 },
 "nbformat": 4,
 "nbformat_minor": 2
}

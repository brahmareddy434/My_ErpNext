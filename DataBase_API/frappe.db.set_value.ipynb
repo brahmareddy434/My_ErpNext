{
 "cells": [
  {
   "attachments": {},
   "cell_type": "markdown",
   "metadata": {},
   "source": [
    "## Frappe.db.set_value"
   ]
  },
  {
   "attachments": {},
   "cell_type": "markdown",
   "metadata": {},
   "source": [
    "This Api is used for Update the field value in Doctypes<br>\n",
    "this also called as `frappe.db.update()`\n",
    "Set's the field value in databse,doesnot not call the ORM trigger but update the modified timestamp\n",
    "#### Syntax\n",
    "`frapee.db.set_value(\"doctype\",name,field,value)`<br>\n",
    "--># update the single field #<br>\n",
    " `frappe.db.set_value(\"Task\",\"doc name\",\"field name\",value)`<br>\n",
    "--> Update Multiple values::<br>\n",
    "  `frappe.db.set_value(doctype,name,{\"sub\":\"king\",\"age\":23,\"cit})`<br>\n",
    "-->Update without update modified time stamp<br>\n",
    "  `frappe.db.set_value(doctpe,name,field,update_modified=False)`<br><br><br>\n",
    " Note:: This method won't call ORM triggers like validate and on_update. Use this method to update hidden fields or if you know what you are doing.\n"
   ]
  },
  {
   "attachments": {},
   "cell_type": "markdown",
   "metadata": {},
   "source": []
  }
 ],
 "metadata": {
  "language_info": {
   "name": "python"
  },
  "orig_nbformat": 4
 },
 "nbformat": 4,
 "nbformat_minor": 2
}
